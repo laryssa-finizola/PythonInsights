{
 "cells": [
  {
   "cell_type": "markdown",
   "metadata": {},
   "source": [
    "# Python Insights - Analisando Dados com Python\n",
    "\n",
    "### Case - Cancelamento de Clientes\n",
    "\n",
    "Você foi contratado por uma empresa com mais de 800 mil clientes para um projeto de Dados. Recentemente a empresa percebeu que da sua base total de clientes, a maioria são clientes inativos, ou seja, que já cancelaram o serviço.\n",
    "\n",
    "Precisando melhorar seus resultados ela quer conseguir entender os principais motivos desses cancelamentos e quais as ações mais eficientes para reduzir esse número.\n",
    "\n",
    "Base de dados e arquivos: https://drive.google.com/drive/folders/1uDesZePdkhiraJmiyeZ-w5tfc8XsNYFZ?usp=drive_link"
   ]
  },
  {
   "cell_type": "code",
   "execution_count": null,
   "metadata": {},
   "outputs": [],
   "source": [
    "#passo a passo\n",
    "# 1: importar a base de dados\n",
    "import pandas as pd\n",
    "\n",
    "tabela = pd.read_csv(\"cancelamentos.csv\")\n",
    "\n",
    "# 2: visualização da base de dados (entender as informações e encontrar problemas)\n",
    "display(tabela)\n",
    "\n",
    "\n"
   ]
  },
  {
   "cell_type": "code",
   "execution_count": null,
   "metadata": {},
   "outputs": [],
   "source": [
    "\n",
    "# 3: resolver os problemas da base de dados\n",
    "# 1 problema = entender as informações inuteis (\"informação que não ajuda, te atrapalha\")\n",
    "# 2 problema = informações no formato incorreto \n",
    "# 3 problema = informação vazias \n",
    "\n",
    "tabela = tabela.drop(columns=\"CustomerID\")\n",
    "\n",
    "tabela = tabela.dropna()\n",
    "\n",
    "\n",
    "# 4: analise inicial (quantos cancelaram, qual o %)\n",
    "display(tabela[\"cancelou\"].value_counts(normalize=True))\n",
    "\n",
    "\n"
   ]
  },
  {
   "cell_type": "code",
   "execution_count": null,
   "metadata": {},
   "outputs": [],
   "source": [
    "# 5: analise detalhada  (analise da causa do cancelamento)\n",
    "#criacao de graficos\n",
    "# etapa 1: cria o grafico\n",
    "# etapa 2: exibir o grafico\n",
    "import plotly.express as px\n",
    "\n",
    "# histogram -> mostra a quantidade de valores em cada situação\n",
    "grafico_idade = px.histogram(tabela, x=\"idade\", color=\"cancelou\")\n",
    "grafico_duracao = px.histogram(tabela, x=\"duracao_contrato\", color=\"cancelou\", text_auto=True)\n",
    "grafico_idade.show()\n",
    "grafico_duracao.show()\n",
    "\n",
    "\n",
    "# criação de um grafico para cada coluna da tabela\n",
    "\n",
    "for coluna in tabela.columns: \n",
    "    grafico = px.histogram(tabela, x=coluna, color=\"cancelou\", text_auto=True)\n",
    "    grafico.show()\n",
    "\n"
   ]
  },
  {
   "cell_type": "code",
   "execution_count": null,
   "metadata": {},
   "outputs": [],
   "source": [
    "# alguns problemas que surgiram conforme a analise dos graficos:\n",
    "\n",
    "    # clientes que ligaram mais de 4x pro callcenter cancelaram\n",
    "        # solução: criação de um alerta para o cliente que estiver ligando pela 3 vez\n",
    "\n",
    "    # todos os clientes de contrato mensal cancelaram\n",
    "        # aplicação de desconto nos outros tipos de contrato\n",
    "\n",
    "    # todos os clientes que atrasaram o pagamento por mais de 20 dias, cancelaram\n",
    "        # ligar um alerta para o time de cobrança quando bater 15 dias de atraso "
   ]
  },
  {
   "cell_type": "code",
   "execution_count": null,
   "metadata": {},
   "outputs": [],
   "source": [
    "\n",
    "# META 1: OLHAR A MINHA BASE EXCLUINDO O PROBLEMA DO CALL CENTER\n",
    "    # olhar a minhna tabela e retirar todo mundo com o problema do call center\n",
    "tabela = tabela[tabela[\"ligacoes_callcenter\"] < 5]\n",
    "display(tabela[\"cancelou\"].value_counts(normalize=True)) #diminuição de 56% para 36%"
   ]
  },
  {
   "cell_type": "code",
   "execution_count": null,
   "metadata": {},
   "outputs": [],
   "source": [
    "# META 2: OLHAR A MINHA BASE EXCLUINDO O PROBLEMA DOS DIAS DE ATRASO DE PAGAMENTO\n",
    "tabela = tabela [tabela[\"dias_atraso\"] <= 20]\n",
    "display(tabela[\"cancelou\"].value_counts(normalize=True))"
   ]
  },
  {
   "cell_type": "code",
   "execution_count": null,
   "metadata": {},
   "outputs": [],
   "source": [
    "# META 3: OLHAR A MINHA BASE EXCLUINDO OS CONTRATOS MENSAIS\n",
    "tabela = tabela[tabela[\"duracao_contrato\"] != \"Monthly\"]\n",
    "display(tabela[\"cancelou\"].value_counts(normalize=True))"
   ]
  }
 ],
 "metadata": {
  "kernelspec": {
   "display_name": "Python 3",
   "language": "python",
   "name": "python3"
  },
  "language_info": {
   "codemirror_mode": {
    "name": "ipython",
    "version": 3
   },
   "file_extension": ".py",
   "mimetype": "text/x-python",
   "name": "python",
   "nbconvert_exporter": "python",
   "pygments_lexer": "ipython3",
   "version": "3.13.1"
  },
  "orig_nbformat": 4
 },
 "nbformat": 4,
 "nbformat_minor": 2
}
